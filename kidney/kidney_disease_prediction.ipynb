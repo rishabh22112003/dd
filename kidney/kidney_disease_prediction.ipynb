{
 "cells": [
  {
   "cell_type": "code",
   "execution_count": null,
   "metadata": {
    "colab": {
     "base_uri": "https://localhost:8080/"
    },
    "id": "t4u6sN9RooDB",
    "outputId": "33786341-388c-4f51-b807-34ec15e42f1f"
   },
   "outputs": [],
   "source": [
    "from google.colab import drive\n",
    "from google.colab import files\n",
    "drive.mount('/content/drive')\n"
   ]
  },
  {
   "cell_type": "code",
   "execution_count": null,
   "metadata": {
    "colab": {
     "base_uri": "https://localhost:8080/",
     "height": 145
    },
    "id": "wSB4jbQ9pKpK",
    "outputId": "1bc19fea-1dd1-4e73-d571-6694d833baea"
   },
   "outputs": [],
   "source": [
    "files.upload()"
   ]
  },
  {
   "cell_type": "code",
   "execution_count": null,
   "metadata": {
    "id": "51du5xSipKP6"
   },
   "outputs": [],
   "source": [
    "import pandas as pd\n",
    "import numpy as np\n",
    "import matplotlib.pyplot as plt\n",
    "import seaborn as sns"
   ]
  },
  {
   "cell_type": "code",
   "execution_count": null,
   "metadata": {
    "id": "YQGTd-rzpfRN"
   },
   "outputs": [],
   "source": [
    "kidney_df = pd.read_csv('/content/drive/MyDrive/dataset/kidney_disease.csv')"
   ]
  },
  {
   "cell_type": "code",
   "execution_count": null,
   "metadata": {
    "colab": {
     "base_uri": "https://localhost:8080/",
     "height": 235
    },
    "id": "mTeJJbO3plOK",
    "outputId": "059083e3-5450-4785-9c62-c152cfdc95a6"
   },
   "outputs": [],
   "source": [
    "kidney_df.head()"
   ]
  },
  {
   "cell_type": "code",
   "execution_count": null,
   "metadata": {
    "colab": {
     "base_uri": "https://localhost:8080/"
    },
    "id": "G7h9TqUr3LNS",
    "outputId": "a97ee255-1f13-4230-b6bb-4500a01adb95"
   },
   "outputs": [],
   "source": [
    "kidney_df.info()"
   ]
  },
  {
   "cell_type": "code",
   "execution_count": null,
   "metadata": {
    "colab": {
     "base_uri": "https://localhost:8080/",
     "height": 899
    },
    "id": "qc08NahEpkEf",
    "outputId": "c177b3ac-ece6-43d4-b33c-57badc9593ba"
   },
   "outputs": [],
   "source": [
    "kidney_df.isnull().sum()"
   ]
  },
  {
   "cell_type": "code",
   "execution_count": null,
   "metadata": {
    "colab": {
     "base_uri": "https://localhost:8080/",
     "height": 235
    },
    "id": "33EpPcLNp3pH",
    "outputId": "52b45d8e-3fb1-405a-ef1f-9181378078a1"
   },
   "outputs": [],
   "source": [
    "#imputing null values\n",
    "from sklearn.impute import SimpleImputer\n",
    "imputer = SimpleImputer(missing_values=np.nan, strategy='most_frequent')\n",
    "df_imputed = pd.DataFrame(imputer.fit_transform(kidney_df), columns=kidney_df.columns)\n",
    "df_imputed.head()"
   ]
  },
  {
   "cell_type": "code",
   "execution_count": null,
   "metadata": {
    "colab": {
     "base_uri": "https://localhost:8080/",
     "height": 899
    },
    "id": "ZdtW6lxorASt",
    "outputId": "cba8682e-e94d-43a0-9f92-952a6d7d211d"
   },
   "outputs": [],
   "source": [
    "df_imputed.isnull().sum()"
   ]
  },
  {
   "cell_type": "code",
   "execution_count": null,
   "metadata": {
    "colab": {
     "base_uri": "https://localhost:8080/"
    },
    "id": "1rjknvzHrHGM",
    "outputId": "5a0ae3bf-a9d6-44e1-a54b-8f08e42d6109"
   },
   "outputs": [],
   "source": [
    "#finding unique values in columns\n",
    "for col in df_imputed.columns:\n",
    "  print(f'{col}: {df_imputed[col].unique()}')"
   ]
  },
  {
   "cell_type": "code",
   "execution_count": null,
   "metadata": {
    "colab": {
     "base_uri": "https://localhost:8080/"
    },
    "id": "bWiio0NLsMXI",
    "outputId": "2b02deac-d168-4e0f-a82f-c3a97b07924c"
   },
   "outputs": [],
   "source": [
    "print(df_imputed[\"rc\"].mode())\n",
    "print(df_imputed[\"wc\"].mode())\n",
    "print(df_imputed[\"pcv\"].mode())"
   ]
  },
  {
   "cell_type": "code",
   "execution_count": null,
   "metadata": {
    "id": "ibpUyI5TsMP9"
   },
   "outputs": [],
   "source": [
    "df_imputed[\"classification\"]=df_imputed[\"classification\"].replace(\"ckd\\t\",\"ckd\")\n",
    "df_imputed[\"classification\"]=df_imputed[\"classification\"].replace(\"notckd\",\"not ckd\")\n",
    "\n",
    "df_imputed[\"cad\"]=df_imputed[\"cad\"].replace(\"\\tno\",\"no\")\n",
    "\n",
    "df_imputed[\"dm\"]=df_imputed[\"dm\"].replace( \"\\tno\",\"no\")\n",
    "df_imputed[\"dm\"]=df_imputed[\"dm\"].replace( \"\\tyes\",\"yes\")\n",
    "df_imputed[\"dm\"]=df_imputed[\"dm\"].replace( \" yes\",\"yes\")\n",
    "\n",
    "df_imputed[\"wc\"]=df_imputed[\"wc\"].replace(\"\\t6200\",\"9800\")\n",
    "df_imputed[\"wc\"]=df_imputed[\"wc\"].replace(\"\\t?\",\"5.2\")\n",
    "df_imputed[\"wc\"]=df_imputed[\"wc\"].replace(\"\\t8400\",\"9800\")\n",
    "\n",
    "df_imputed[\"pcv\"]=df_imputed[\"pcv\"].replace(\"\\t43\",\"41\")\n",
    "df_imputed[\"pcv\"]=df_imputed[\"pcv\"].replace(\"\\t?\",\"41\")\n",
    "\n",
    "df_imputed[\"rc\"]=df_imputed[\"rc\"].replace(\"\\t?\",\"5.2\")\n",
    "\n"
   ]
  },
  {
   "cell_type": "code",
   "execution_count": null,
   "metadata": {
    "colab": {
     "base_uri": "https://localhost:8080/"
    },
    "id": "tR3FThn0u02o",
    "outputId": "b11ecf57-d28b-4cae-f651-d5a197fcdeb6"
   },
   "outputs": [],
   "source": [
    "#finding unique values in columns\n",
    "for col in df_imputed.columns:\n",
    "  print(f'{col}: {df_imputed[col].unique()}')"
   ]
  },
  {
   "cell_type": "code",
   "execution_count": null,
   "metadata": {
    "colab": {
     "base_uri": "https://localhost:8080/",
     "height": 899
    },
    "id": "DGSUzAfu1AeO",
    "outputId": "442bf9a1-dbac-43a9-f2e8-fc3942697b5e"
   },
   "outputs": [],
   "source": [
    "df_imputed.dtypes"
   ]
  },
  {
   "cell_type": "code",
   "execution_count": null,
   "metadata": {
    "colab": {
     "base_uri": "https://localhost:8080/"
    },
    "id": "BiZ2A_pC8rlr",
    "outputId": "32dd99a5-921a-46b5-a902-bf315aeb2565"
   },
   "outputs": [],
   "source": [
    "kidney_df.select_dtypes(exclude=[\"object\"]).columns"
   ]
  },
  {
   "cell_type": "code",
   "execution_count": null,
   "metadata": {
    "id": "Qki6uZFh6MZ6"
   },
   "outputs": [],
   "source": [
    "for i in kidney_df.select_dtypes(exclude=[\"object\"]).columns:\n",
    "  df_imputed[i] = df_imputed[i].astype('float')"
   ]
  },
  {
   "cell_type": "code",
   "execution_count": null,
   "metadata": {
    "colab": {
     "base_uri": "https://localhost:8080/",
     "height": 899
    },
    "id": "fWKRoNkE029p",
    "outputId": "777f0ec3-3723-45d2-850a-bf0a8e041bcc"
   },
   "outputs": [],
   "source": [
    "df_imputed.dtypes"
   ]
  },
  {
   "cell_type": "code",
   "execution_count": null,
   "metadata": {
    "colab": {
     "base_uri": "https://localhost:8080/",
     "height": 206
    },
    "id": "naLiV9QR_gFI",
    "outputId": "30fd5204-b217-4df0-e710-fbab1e84787d"
   },
   "outputs": [],
   "source": [
    "object_dtypes = df_imputed.select_dtypes(include = 'object')\n",
    "object_dtypes.head()"
   ]
  },
  {
   "cell_type": "code",
   "execution_count": null,
   "metadata": {
    "id": "Fh3gTpOH_hks"
   },
   "outputs": [],
   "source": [
    "dictonary = {\n",
    "        \"rbc\": {\n",
    "        \"abnormal\":1,\n",
    "        \"normal\": 0,\n",
    "    },\n",
    "        \"pc\":{\n",
    "        \"abnormal\":1,\n",
    "        \"normal\": 0,\n",
    "    },\n",
    "        \"pcc\":{\n",
    "        \"present\":1,\n",
    "        \"notpresent\":0,\n",
    "    },\n",
    "        \"ba\":{\n",
    "        \"notpresent\":0,\n",
    "        \"present\": 1,\n",
    "    },\n",
    "        \"htn\":{\n",
    "        \"yes\":1,\n",
    "        \"no\": 0,\n",
    "    },\n",
    "        \"dm\":{\n",
    "        \"yes\":1,\n",
    "        \"no\":0,\n",
    "    },\n",
    "        \"cad\":{\n",
    "        \"yes\":1,\n",
    "        \"no\": 0,\n",
    "    },\n",
    "        \"appet\":{\n",
    "        \"good\":1,\n",
    "        \"poor\": 0,\n",
    "    },\n",
    "        \"pe\":{\n",
    "        \"yes\":1,\n",
    "        \"no\":0,\n",
    "    },\n",
    "        \"ane\":{\n",
    "        \"yes\":1,\n",
    "        \"no\":0,\n",
    "    }\n",
    "}"
   ]
  },
  {
   "cell_type": "code",
   "execution_count": null,
   "metadata": {
    "colab": {
     "base_uri": "https://localhost:8080/",
     "height": 235
    },
    "id": "r8OSf3EY_yMw",
    "outputId": "c6edce54-3f67-442e-aeff-c5697af5a757"
   },
   "outputs": [],
   "source": [
    "df=df_imputed.replace(dictonary)\n",
    "df.head()"
   ]
  },
  {
   "cell_type": "code",
   "execution_count": null,
   "metadata": {
    "colab": {
     "base_uri": "https://localhost:8080/"
    },
    "id": "aC-qQ7DzAUcD",
    "outputId": "c8d82152-5543-4507-a7b9-fb1106a6f146"
   },
   "outputs": [],
   "source": [
    "X = df.drop(['id','classification', 'sg', 'appet', 'rc', 'pcv', 'hemo', 'sod'], axis = 1)\n",
    "y = df['classification']\n",
    "X.columns"
   ]
  },
  {
   "cell_type": "code",
   "execution_count": null,
   "metadata": {
    "id": "lbQXCwv0Ad-P"
   },
   "outputs": [],
   "source": [
    "from sklearn.model_selection import train_test_split\n",
    "X_train, X_test, y_train, y_test = train_test_split(X, y, test_size = 0.2, random_state = 42)"
   ]
  },
  {
   "cell_type": "code",
   "execution_count": null,
   "metadata": {
    "colab": {
     "base_uri": "https://localhost:8080/",
     "height": 178
    },
    "id": "C_xPbDnDCbWD",
    "outputId": "cc3ec4cc-3062-4224-960d-14554c9af58f"
   },
   "outputs": [],
   "source": [
    "y_test.value_counts()"
   ]
  },
  {
   "cell_type": "code",
   "execution_count": null,
   "metadata": {
    "id": "FSr9ums1CXbW"
   },
   "outputs": [],
   "source": [
    "from sklearn.preprocessing import StandardScaler\n",
    "\n",
    "# Create a StandardScaler object\n",
    "scaler = StandardScaler()\n",
    "\n",
    "# Fit the scaler on the training data and transform both training and test data\n",
    "X_train = scaler.fit_transform(X_train)\n",
    "X_test = scaler.transform(X_test)"
   ]
  },
  {
   "cell_type": "code",
   "execution_count": null,
   "metadata": {
    "colab": {
     "base_uri": "https://localhost:8080/",
     "height": 80
    },
    "id": "OIe7cf_NAqj2",
    "outputId": "a9fbca61-9f25-46be-9d49-fad44c961494"
   },
   "outputs": [],
   "source": [
    "\n",
    "from sklearn.ensemble import RandomForestClassifier\n",
    "\n",
    "model = RandomForestClassifier(n_estimators = 20)\n",
    "model.fit(X_train, y_train)"
   ]
  },
  {
   "cell_type": "code",
   "execution_count": null,
   "metadata": {
    "id": "gih1yFjDCsbV"
   },
   "outputs": [],
   "source": [
    "y_pred= model.predict(X_test)"
   ]
  },
  {
   "cell_type": "code",
   "execution_count": null,
   "metadata": {
    "colab": {
     "base_uri": "https://localhost:8080/"
    },
    "id": "Uqz2Ga8NA72u",
    "outputId": "b8f46d5d-71fe-4920-e838-0792cba75e83"
   },
   "outputs": [],
   "source": [
    "from sklearn.metrics import confusion_matrix, accuracy_score\n",
    "print(f\"Accuracy is {round(accuracy_score(y_test, model.predict(X_test))*100, 2)}%\")"
   ]
  },
  {
   "cell_type": "code",
   "execution_count": null,
   "metadata": {
    "colab": {
     "base_uri": "https://localhost:8080/"
    },
    "id": "VgWQN3AJA7sf",
    "outputId": "12c5a581-55eb-49d5-e910-18e5345d30ad"
   },
   "outputs": [],
   "source": [
    "# accuracy on training data\n",
    "X_train_prediction = model.predict(X_train)\n",
    "training_data_accuracy = accuracy_score(X_train_prediction, y_train)\n",
    "print('Accuracy on Training data : ', training_data_accuracy)"
   ]
  },
  {
   "cell_type": "code",
   "execution_count": null,
   "metadata": {
    "colab": {
     "base_uri": "https://localhost:8080/"
    },
    "id": "JOcTVKJ9BqUm",
    "outputId": "ec2f9a4b-53ce-4343-dbc9-eefa2dd2435a"
   },
   "outputs": [],
   "source": [
    "# accuracy on test data\n",
    "X_test_prediction = model.predict(X_test)\n",
    "test_data_accuracy = accuracy_score(X_test_prediction, y_test)\n",
    "print('Accuracy on Test data : ', test_data_accuracy)"
   ]
  },
  {
   "cell_type": "code",
   "execution_count": null,
   "metadata": {
    "colab": {
     "base_uri": "https://localhost:8080/",
     "height": 206
    },
    "id": "NTHqmWi1BxKZ",
    "outputId": "e63b646b-36cf-439b-e59f-30e0aa08ca2c"
   },
   "outputs": [],
   "source": [
    "df=pd.DataFrame({'Actual':y_test,'Predicted':X_test_prediction})\n",
    "df.head()"
   ]
  },
  {
   "cell_type": "code",
   "execution_count": null,
   "metadata": {
    "colab": {
     "base_uri": "https://localhost:8080/",
     "height": 206
    },
    "id": "7SDJ2OXmDvhM",
    "outputId": "752212e3-bf72-4eff-f1d0-51b74a1d6fbb"
   },
   "outputs": [],
   "source": [
    "X.head()"
   ]
  },
  {
   "cell_type": "code",
   "execution_count": null,
   "metadata": {
    "colab": {
     "base_uri": "https://localhost:8080/",
     "height": 241
    },
    "id": "bX4D8UQcFB-z",
    "outputId": "d6f32b82-1701-4be4-b5c2-e98b8f55ee35"
   },
   "outputs": [],
   "source": [
    "y.head()"
   ]
  },
  {
   "cell_type": "code",
   "execution_count": null,
   "metadata": {
    "colab": {
     "base_uri": "https://localhost:8080/",
     "height": 206
    },
    "id": "R-S508bcFTif",
    "outputId": "ff12e720-50c3-4b1e-9363-8b0bfdb8114c"
   },
   "outputs": [],
   "source": [
    "X.tail()"
   ]
  },
  {
   "cell_type": "code",
   "execution_count": null,
   "metadata": {
    "colab": {
     "base_uri": "https://localhost:8080/"
    },
    "id": "lgos1tlcCFYZ",
    "outputId": "28e4e909-269c-4aee-a1a9-83c6da62a588"
   },
   "outputs": [],
   "source": [
    "input_data = (58,80,0,0,0,0,0,0,131,18,1.1,3.5,6800,0,0,0,0,0)\n",
    "\n",
    "# change the input data to a numpy array\n",
    "input_data_as_numpy_array= np.asarray(input_data)\n",
    "\n",
    "# reshape the numpy array as we are predicting for only on instance\n",
    "input_data_reshaped = input_data_as_numpy_array.reshape(1,-1)\n",
    "\n",
    "# standardize the input data\n",
    "std_data = scaler.transform(input_data_reshaped)\n",
    "print(std_data)\n",
    "\n",
    "prediction = model.predict(std_data)\n",
    "print(prediction)\n",
    "\n",
    "if (prediction[0]== \"not ckd\"):\n",
    "  print('The Person does not have a chronic kidney Disease')\n",
    "else:\n",
    "  print('The Person has chronic kindey Disease')"
   ]
  }
 ],
 "metadata": {
  "colab": {
   "provenance": []
  },
  "kernelspec": {
   "display_name": "Python 3",
   "name": "python3"
  },
  "language_info": {
   "name": "python"
  }
 },
 "nbformat": 4,
 "nbformat_minor": 0
}
